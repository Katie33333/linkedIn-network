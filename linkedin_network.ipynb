{
  "nbformat": 4,
  "nbformat_minor": 0,
  "metadata": {
    "colab": {
      "name": "linkedin_network.ipynb",
      "provenance": [],
      "collapsed_sections": [],
      "mount_file_id": "1OPbINJ9CsWDOVaJ-w0p2dRx9zx3mAll8",
      "authorship_tag": "ABX9TyML4BdgNB+IWYRu3mvuecQK",
      "include_colab_link": true
    },
    "kernelspec": {
      "name": "python3",
      "display_name": "Python 3"
    },
    "language_info": {
      "name": "python"
    }
  },
  "cells": [
    {
      "cell_type": "markdown",
      "metadata": {
        "id": "view-in-github",
        "colab_type": "text"
      },
      "source": [
        "<a href=\"https://colab.research.google.com/github/Katie33333/linkedIn-network/blob/main/linkedin_network.ipynb\" target=\"_parent\"><img src=\"https://colab.research.google.com/assets/colab-badge.svg\" alt=\"Open In Colab\"/></a>"
      ]
    },
    {
      "cell_type": "markdown",
      "source": [
        "# Visualize LinkedIn connection data using graph Python libraries\n",
        "I'm using the code and example created by Benedict Neo found [here](https://medium.com/bitgrit-data-science-publication/visualize-your-linkedin-network-with-python-59a213786c4#id_token=eyJhbGciOiJSUzI1NiIsImtpZCI6IjAzMmIyZWYzZDJjMjgwNjE1N2Y4YTliOWY0ZWY3Nzk4MzRmODVhZGEiLCJ0eXAiOiJKV1QifQ.eyJpc3MiOiJodHRwczovL2FjY291bnRzLmdvb2dsZS5jb20iLCJuYmYiOjE2MzY5MzQzNjksImF1ZCI6IjIxNjI5NjAzNTgzNC1rMWs2cWUwNjBzMnRwMmEyamFtNGxqZGNtczAwc3R0Zy5hcHBzLmdvb2dsZXVzZXJjb250ZW50LmNvbSIsInN1YiI6IjEwMTY2MzM1MDc0MTA3NTM3MTg5MCIsImVtYWlsIjoia2F0aWUxMjE0NzhAZ21haWwuY29tIiwiZW1haWxfdmVyaWZpZWQiOnRydWUsImF6cCI6IjIxNjI5NjAzNTgzNC1rMWs2cWUwNjBzMnRwMmEyamFtNGxqZGNtczAwc3R0Zy5hcHBzLmdvb2dsZXVzZXJjb250ZW50LmNvbSIsIm5hbWUiOiJLYXRpZSBLaXJrcGF0cmljayIsInBpY3R1cmUiOiJodHRwczovL2xoMy5nb29nbGV1c2VyY29udGVudC5jb20vYS0vQU9oMTRHZ0RJczNybWs2N0FKT3BkYTJrR19kc0owMG9kN08xX2ZYSkVHQXhlQT1zOTYtYyIsImdpdmVuX25hbWUiOiJLYXRpZSIsImZhbWlseV9uYW1lIjoiS2lya3BhdHJpY2siLCJpYXQiOjE2MzY5MzQ2NjksImV4cCI6MTYzNjkzODI2OSwianRpIjoiMzEwMWYwYzY3YjkwZjIxZDExMmVlOWU4N2ZjZjUwNmEzMjk0NDM1MyJ9.0mf2x7ZV6tGZpaUhezPEnl0FiaG945KwLo5TPKglLQ-CA6JYbv4fqwBnzNe8MQ7U5Yw_Qo4UrArmdBwxbkKz5bS8un5_LBh6LrEqayPMDmWoyzp5WgV8yyxTCnL3aWxCXWyOJJ9LBRhCvVJBNtgYXaP2Bm1igMYzD8z0TO4s9ZKs73ujf6YGpiOZ8g1t6IplycXd2z-LzZY0TCYYuhHYrUg4krgxj6KI9xUyJ30zd21dsgXd_6YP3mHT18ERZvh2vzp4CkJOD1CQGdbB9_8GZqb9_NaHlCRVO2RFdk0dTEXrJ5FvKppwRr0T7OAY1Kjb5PC4n_Mg8L-ejn8EjtUZlg)"
      ],
      "metadata": {
        "id": "FFNLzkcPCMFs"
      }
    },
    {
      "cell_type": "code",
      "source": [
        "!pip install pyjanitor pyvis --quiet"
      ],
      "metadata": {
        "id": "DfscGgtpCNAa"
      },
      "execution_count": 15,
      "outputs": []
    },
    {
      "cell_type": "code",
      "source": [
        "import pandas as pd\n",
        "import janitor\n",
        "import datetime\n",
        "\n",
        "from IPython.core.display import display, HTML\n",
        "from pyvis import network as net\n",
        "import networkx as nx"
      ],
      "metadata": {
        "id": "Dj0gdcjo9OLU"
      },
      "execution_count": 3,
      "outputs": []
    },
    {
      "cell_type": "code",
      "source": [
        "df_ori = pd.read_csv(\"/content/drive/MyDrive/linkedin_network.csv\", skiprows=3)"
      ],
      "metadata": {
        "id": "qSi-qYUI9SP9"
      },
      "execution_count": 7,
      "outputs": []
    },
    {
      "cell_type": "code",
      "source": [
        "df_ori.info()"
      ],
      "metadata": {
        "colab": {
          "base_uri": "https://localhost:8080/"
        },
        "id": "mj0SzdTM-e0i",
        "outputId": "31d05818-fbc9-4b73-ea86-e71dc0a57ec1"
      },
      "execution_count": 8,
      "outputs": [
        {
          "output_type": "stream",
          "name": "stdout",
          "text": [
            "<class 'pandas.core.frame.DataFrame'>\n",
            "RangeIndex: 626 entries, 0 to 625\n",
            "Data columns (total 6 columns):\n",
            " #   Column         Non-Null Count  Dtype \n",
            "---  ------         --------------  ----- \n",
            " 0   First Name     612 non-null    object\n",
            " 1   Last Name      612 non-null    object\n",
            " 2   Email Address  19 non-null     object\n",
            " 3   Company        604 non-null    object\n",
            " 4   Position       604 non-null    object\n",
            " 5   Connected On   626 non-null    object\n",
            "dtypes: object(6)\n",
            "memory usage: 29.5+ KB\n"
          ]
        }
      ]
    },
    {
      "cell_type": "markdown",
      "source": [
        "# Data Cleaning"
      ],
      "metadata": {
        "id": "8I5x2THL_leN"
      }
    },
    {
      "cell_type": "code",
      "source": [
        "df = (\n",
        "    df_ori\n",
        "    .clean_names() # remove spacing and capitalization\n",
        "    .drop(columns=['first_name', 'last_name', 'email_address']) # drop for privacy\n",
        "    .dropna(subset=['company', 'position']) # drop missing values in company and position\n",
        "    .to_datetime('connected_on', format='%d %b %Y')\n",
        "  )\n",
        "df.head()"
      ],
      "metadata": {
        "colab": {
          "base_uri": "https://localhost:8080/",
          "height": 204
        },
        "id": "9MuWoKzK_nYV",
        "outputId": "dd91d754-5a5b-49ee-d039-722ac8a35952"
      },
      "execution_count": 9,
      "outputs": [
        {
          "output_type": "execute_result",
          "data": {
            "text/html": [
              "<div>\n",
              "<style scoped>\n",
              "    .dataframe tbody tr th:only-of-type {\n",
              "        vertical-align: middle;\n",
              "    }\n",
              "\n",
              "    .dataframe tbody tr th {\n",
              "        vertical-align: top;\n",
              "    }\n",
              "\n",
              "    .dataframe thead th {\n",
              "        text-align: right;\n",
              "    }\n",
              "</style>\n",
              "<table border=\"1\" class=\"dataframe\">\n",
              "  <thead>\n",
              "    <tr style=\"text-align: right;\">\n",
              "      <th></th>\n",
              "      <th>company</th>\n",
              "      <th>position</th>\n",
              "      <th>connected_on</th>\n",
              "    </tr>\n",
              "  </thead>\n",
              "  <tbody>\n",
              "    <tr>\n",
              "      <th>2</th>\n",
              "      <td>State Farm ®</td>\n",
              "      <td>Senior Data Scientist and Team Lead</td>\n",
              "      <td>2021-10-21</td>\n",
              "    </tr>\n",
              "    <tr>\n",
              "      <th>3</th>\n",
              "      <td>Run:AI</td>\n",
              "      <td>Account Development Representative</td>\n",
              "      <td>2021-10-20</td>\n",
              "    </tr>\n",
              "    <tr>\n",
              "      <th>4</th>\n",
              "      <td>Fiddler</td>\n",
              "      <td>ML Ops, Monitoring and Responsible AI</td>\n",
              "      <td>2021-10-20</td>\n",
              "    </tr>\n",
              "    <tr>\n",
              "      <th>5</th>\n",
              "      <td>Deloitte Consulting</td>\n",
              "      <td>Consultant</td>\n",
              "      <td>2021-10-17</td>\n",
              "    </tr>\n",
              "    <tr>\n",
              "      <th>6</th>\n",
              "      <td>State Farm ®</td>\n",
              "      <td>Technology Manager</td>\n",
              "      <td>2021-10-08</td>\n",
              "    </tr>\n",
              "  </tbody>\n",
              "</table>\n",
              "</div>"
            ],
            "text/plain": [
              "               company                               position connected_on\n",
              "2         State Farm ®    Senior Data Scientist and Team Lead   2021-10-21\n",
              "3               Run:AI     Account Development Representative   2021-10-20\n",
              "4              Fiddler  ML Ops, Monitoring and Responsible AI   2021-10-20\n",
              "5  Deloitte Consulting                             Consultant   2021-10-17\n",
              "6         State Farm ®                     Technology Manager   2021-10-08"
            ]
          },
          "metadata": {},
          "execution_count": 9
        }
      ]
    },
    {
      "cell_type": "markdown",
      "source": [
        "## Simple EDA"
      ],
      "metadata": {
        "id": "utqAjUoL_wH_"
      }
    },
    {
      "cell_type": "code",
      "source": [
        "df['company'].value_counts().head(10).plot(kind=\"barh\").invert_yaxis();"
      ],
      "metadata": {
        "colab": {
          "base_uri": "https://localhost:8080/",
          "height": 265
        },
        "id": "vgkBq-0I_y_Y",
        "outputId": "91e31783-7316-472b-b5cb-0ae7855c9a5f"
      },
      "execution_count": 10,
      "outputs": [
        {
          "output_type": "display_data",
          "data": {
            "image/png": "[encoded data removed]",
            "text/plain": [
              "<Figure size 432x288 with 1 Axes>"
            ]
          },
          "metadata": {
            "needs_background": "light"
          }
        }
      ]
    },
    {
      "cell_type": "code",
      "source": [
        "df['position'].value_counts().head(10).plot(kind=\"barh\").invert_yaxis();"
      ],
      "metadata": {
        "colab": {
          "base_uri": "https://localhost:8080/",
          "height": 265
        },
        "id": "ti8tRERQ_41f",
        "outputId": "be8610b9-9a38-40d2-cd87-da2b3b3b3163"
      },
      "execution_count": 11,
      "outputs": [
        {
          "output_type": "display_data",
          "data": {
            "image/png": "[encoded data removed]",
            "text/plain": [
              "<Figure size 432x288 with 1 Axes>"
            ]
          },
          "metadata": {
            "needs_background": "light"
          }
        }
      ]
    },
    {
      "cell_type": "code",
      "source": [
        "df['connected_on'].hist(xrot=35, bins=15);"
      ],
      "metadata": {
        "colab": {
          "base_uri": "https://localhost:8080/",
          "height": 278
        },
        "id": "_HItS9C9_-I9",
        "outputId": "4fb3f4fc-f83c-4580-e8ff-31b1846d12a4"
      },
      "execution_count": 12,
      "outputs": [
        {
          "output_type": "display_data",
          "data": {
            "image/png": "[encoded data removed]",
            "text/plain": [
              "<Figure size 432x288 with 1 Axes>"
            ]
          },
          "metadata": {
            "needs_background": "light"
          }
        }
      ]
    },
    {
      "cell_type": "markdown",
      "source": [
        "# Aggregate sum of connections by company"
      ],
      "metadata": {
        "id": "ZGUZ0SwrARpu"
      }
    },
    {
      "cell_type": "code",
      "source": [
        "df_company = df['company'].value_counts().reset_index()\n",
        "df_company.columns = ['company', 'count']\n",
        "df_company = df_company.sort_values(by=\"count\", ascending=False)\n",
        "df_company.head(10)"
      ],
      "metadata": {
        "colab": {
          "base_uri": "https://localhost:8080/",
          "height": 359
        },
        "id": "a74UJX16AVPV",
        "outputId": "9b8244c8-4c51-44fd-c031-f5e07369cc31"
      },
      "execution_count": 13,
      "outputs": [
        {
          "output_type": "execute_result",
          "data": {
            "text/html": [
              "<div>\n",
              "<style scoped>\n",
              "    .dataframe tbody tr th:only-of-type {\n",
              "        vertical-align: middle;\n",
              "    }\n",
              "\n",
              "    .dataframe tbody tr th {\n",
              "        vertical-align: top;\n",
              "    }\n",
              "\n",
              "    .dataframe thead th {\n",
              "        text-align: right;\n",
              "    }\n",
              "</style>\n",
              "<table border=\"1\" class=\"dataframe\">\n",
              "  <thead>\n",
              "    <tr style=\"text-align: right;\">\n",
              "      <th></th>\n",
              "      <th>company</th>\n",
              "      <th>count</th>\n",
              "    </tr>\n",
              "  </thead>\n",
              "  <tbody>\n",
              "    <tr>\n",
              "      <th>0</th>\n",
              "      <td>State Farm ®</td>\n",
              "      <td>134</td>\n",
              "    </tr>\n",
              "    <tr>\n",
              "      <th>1</th>\n",
              "      <td>State Farm Insurance</td>\n",
              "      <td>20</td>\n",
              "    </tr>\n",
              "    <tr>\n",
              "      <th>2</th>\n",
              "      <td>State Farm</td>\n",
              "      <td>19</td>\n",
              "    </tr>\n",
              "    <tr>\n",
              "      <th>3</th>\n",
              "      <td>Amazon</td>\n",
              "      <td>5</td>\n",
              "    </tr>\n",
              "    <tr>\n",
              "      <th>4</th>\n",
              "      <td>Toyota Connected North America</td>\n",
              "      <td>5</td>\n",
              "    </tr>\n",
              "    <tr>\n",
              "      <th>5</th>\n",
              "      <td>COUNTRY Financial®</td>\n",
              "      <td>4</td>\n",
              "    </tr>\n",
              "    <tr>\n",
              "      <th>6</th>\n",
              "      <td>IDC Technologies, Inc.</td>\n",
              "      <td>4</td>\n",
              "    </tr>\n",
              "    <tr>\n",
              "      <th>12</th>\n",
              "      <td>TEKsystems</td>\n",
              "      <td>3</td>\n",
              "    </tr>\n",
              "    <tr>\n",
              "      <th>16</th>\n",
              "      <td>Google</td>\n",
              "      <td>3</td>\n",
              "    </tr>\n",
              "    <tr>\n",
              "      <th>14</th>\n",
              "      <td>Zions Bancorporation</td>\n",
              "      <td>3</td>\n",
              "    </tr>\n",
              "  </tbody>\n",
              "</table>\n",
              "</div>"
            ],
            "text/plain": [
              "                           company  count\n",
              "0                     State Farm ®    134\n",
              "1             State Farm Insurance     20\n",
              "2                       State Farm     19\n",
              "3                           Amazon      5\n",
              "4   Toyota Connected North America      5\n",
              "5               COUNTRY Financial®      4\n",
              "6           IDC Technologies, Inc.      4\n",
              "12                      TEKsystems      3\n",
              "16                          Google      3\n",
              "14            Zions Bancorporation      3"
            ]
          },
          "metadata": {},
          "execution_count": 13
        }
      ]
    },
    {
      "cell_type": "markdown",
      "source": [
        "# Aggregate sum of connections by position"
      ],
      "metadata": {
        "id": "OVBji3ooAhu8"
      }
    },
    {
      "cell_type": "code",
      "source": [
        "df_position = df['position'].value_counts().reset_index()\n",
        "df_position.columns = ['position', 'count']\n",
        "df_position = df_position.sort_values(by=\"count\", ascending=False)\n",
        "df_position.head(10)"
      ],
      "metadata": {
        "colab": {
          "base_uri": "https://localhost:8080/",
          "height": 359
        },
        "id": "beyB3VS2AlFd",
        "outputId": "5fd0f1ad-a45a-4285-df16-f4d96fcb5a2c"
      },
      "execution_count": 14,
      "outputs": [
        {
          "output_type": "execute_result",
          "data": {
            "text/html": [
              "<div>\n",
              "<style scoped>\n",
              "    .dataframe tbody tr th:only-of-type {\n",
              "        vertical-align: middle;\n",
              "    }\n",
              "\n",
              "    .dataframe tbody tr th {\n",
              "        vertical-align: top;\n",
              "    }\n",
              "\n",
              "    .dataframe thead th {\n",
              "        text-align: right;\n",
              "    }\n",
              "</style>\n",
              "<table border=\"1\" class=\"dataframe\">\n",
              "  <thead>\n",
              "    <tr style=\"text-align: right;\">\n",
              "      <th></th>\n",
              "      <th>position</th>\n",
              "      <th>count</th>\n",
              "    </tr>\n",
              "  </thead>\n",
              "  <tbody>\n",
              "    <tr>\n",
              "      <th>0</th>\n",
              "      <td>Data Analyst</td>\n",
              "      <td>15</td>\n",
              "    </tr>\n",
              "    <tr>\n",
              "      <th>1</th>\n",
              "      <td>Data Scientist</td>\n",
              "      <td>11</td>\n",
              "    </tr>\n",
              "    <tr>\n",
              "      <th>2</th>\n",
              "      <td>Technology Manager</td>\n",
              "      <td>8</td>\n",
              "    </tr>\n",
              "    <tr>\n",
              "      <th>3</th>\n",
              "      <td>Software Developer</td>\n",
              "      <td>7</td>\n",
              "    </tr>\n",
              "    <tr>\n",
              "      <th>4</th>\n",
              "      <td>President</td>\n",
              "      <td>6</td>\n",
              "    </tr>\n",
              "    <tr>\n",
              "      <th>5</th>\n",
              "      <td>Senior Data Scientist</td>\n",
              "      <td>6</td>\n",
              "    </tr>\n",
              "    <tr>\n",
              "      <th>6</th>\n",
              "      <td>Machine Learning Engineer</td>\n",
              "      <td>5</td>\n",
              "    </tr>\n",
              "    <tr>\n",
              "      <th>7</th>\n",
              "      <td>Software Engineer</td>\n",
              "      <td>5</td>\n",
              "    </tr>\n",
              "    <tr>\n",
              "      <th>14</th>\n",
              "      <td>Insurance Agent</td>\n",
              "      <td>4</td>\n",
              "    </tr>\n",
              "    <tr>\n",
              "      <th>20</th>\n",
              "      <td>Principal Data Scientist</td>\n",
              "      <td>4</td>\n",
              "    </tr>\n",
              "  </tbody>\n",
              "</table>\n",
              "</div>"
            ],
            "text/plain": [
              "                     position  count\n",
              "0                Data Analyst     15\n",
              "1              Data Scientist     11\n",
              "2          Technology Manager      8\n",
              "3          Software Developer      7\n",
              "4                   President      6\n",
              "5       Senior Data Scientist      6\n",
              "6   Machine Learning Engineer      5\n",
              "7           Software Engineer      5\n",
              "14            Insurance Agent      4\n",
              "20   Principal Data Scientist      4"
            ]
          },
          "metadata": {},
          "execution_count": 14
        }
      ]
    },
    {
      "cell_type": "markdown",
      "source": [
        "# Creating the network"
      ],
      "metadata": {
        "id": "gxrCQOWvCHke"
      }
    },
    {
      "cell_type": "markdown",
      "source": [
        "## Example network"
      ],
      "metadata": {
        "id": "bZt4aeBrEbAX"
      }
    },
    {
      "cell_type": "code",
      "source": [
        "nt = net.Network(notebook=True)\n",
        "\n",
        "g = nx.Graph()\n",
        "g.add_node(0, label = \"root\") # intialize yourself as central node\n",
        "g.add_node(1, label = \"Company 1\", size=10, title=\"info1\")\n",
        "g.add_node(2, label = \"Company 2\", size=40, title=\"info2\")\n",
        "g.add_node(3, label = \"Company 3\", size=60, title=\"info3\")\n",
        "g.add_edge(0, 1)\n",
        "g.add_edge(0, 2)\n",
        "g.add_edge(0, 3)\n",
        "\n",
        "nt.from_nx(g)\n",
        "nt.show('nodes.html')\n",
        "display(HTML('nodes.html'))"
      ],
      "metadata": {
        "colab": {
          "base_uri": "https://localhost:8080/",
          "height": 538
        },
        "id": "6md2yURsEduY",
        "outputId": "aee0047a-8c60-4509-97b4-e3b36ddeac21"
      },
      "execution_count": 16,
      "outputs": [
        {
          "output_type": "display_data",
          "data": {
            "text/html": [
              "<html>\n",
              "<head>\n",
              "<link rel=\"stylesheet\" href=\"https://cdnjs.cloudflare.com/ajax/libs/vis/4.16.1/vis.css\" type=\"text/css\" />\n",
              "<script type=\"text/javascript\" src=\"https://cdnjs.cloudflare.com/ajax/libs/vis/4.16.1/vis-network.min.js\"> </script>\n",
              "<center>\n",
              "<h1></h1>\n",
              "</center>\n",
              "\n",
              "<!-- <link rel=\"stylesheet\" href=\"../node_modules/vis/dist/vis.min.css\" type=\"text/css\" />\n",
              "<script type=\"text/javascript\" src=\"../node_modules/vis/dist/vis.js\"> </script>-->\n",
              "\n",
              "<style type=\"text/css\">\n",
              "\n",
              "        #mynetwork {\n",
              "            width: 500px;\n",
              "            height: 500px;\n",
              "            background-color: #ffffff;\n",
              "            border: 1px solid lightgray;\n",
              "            position: relative;\n",
              "            float: left;\n",
              "        }\n",
              "\n",
              "        \n",
              "\n",
              "        \n",
              "\n",
              "        \n",
              "</style>\n",
              "\n",
              "</head>\n",
              "\n",
              "<body>\n",
              "<div id = \"mynetwork\"></div>\n",
              "\n",
              "\n",
              "<script type=\"text/javascript\">\n",
              "\n",
              "    // initialize global variables.\n",
              "    var edges;\n",
              "    var nodes;\n",
              "    var network; \n",
              "    var container;\n",
              "    var options, data;\n",
              "\n",
              "    \n",
              "    // This method is responsible for drawing the graph, returns the drawn network\n",
              "    function drawGraph() {\n",
              "        var container = document.getElementById('mynetwork');\n",
              "        \n",
              "        \n",
              "\n",
              "        // parsing and collecting nodes and edges from the python\n",
              "        nodes = new vis.DataSet([{\"id\": 0, \"label\": \"root\", \"shape\": \"dot\", \"size\": 10}, {\"id\": 1, \"label\": \"Company 1\", \"shape\": \"dot\", \"size\": 10, \"title\": \"info1\"}, {\"id\": 2, \"label\": \"Company 2\", \"shape\": \"dot\", \"size\": 40, \"title\": \"info2\"}, {\"id\": 3, \"label\": \"Company 3\", \"shape\": \"dot\", \"size\": 60, \"title\": \"info3\"}]);\n",
              "        edges = new vis.DataSet([{\"from\": 0, \"to\": 1, \"weight\": 1}, {\"from\": 0, \"to\": 2, \"weight\": 1}, {\"from\": 0, \"to\": 3, \"weight\": 1}]);\n",
              "\n",
              "        // adding nodes and edges to the graph\n",
              "        data = {nodes: nodes, edges: edges};\n",
              "\n",
              "        var options = {\n",
              "    \"configure\": {\n",
              "        \"enabled\": false\n",
              "    },\n",
              "    \"edges\": {\n",
              "        \"color\": {\n",
              "            \"inherit\": true\n",
              "        },\n",
              "        \"smooth\": {\n",
              "            \"enabled\": false,\n",
              "            \"type\": \"continuous\"\n",
              "        }\n",
              "    },\n",
              "    \"interaction\": {\n",
              "        \"dragNodes\": true,\n",
              "        \"hideEdgesOnDrag\": false,\n",
              "        \"hideNodesOnDrag\": false\n",
              "    },\n",
              "    \"physics\": {\n",
              "        \"enabled\": true,\n",
              "        \"stabilization\": {\n",
              "            \"enabled\": true,\n",
              "            \"fit\": true,\n",
              "            \"iterations\": 1000,\n",
              "            \"onlyDynamicEdges\": false,\n",
              "            \"updateInterval\": 50\n",
              "        }\n",
              "    }\n",
              "};\n",
              "        \n",
              "        \n",
              "\n",
              "        \n",
              "\n",
              "        network = new vis.Network(container, data, options);\n",
              "\t \n",
              "        \n",
              "\n",
              "\n",
              "        \n",
              "\n",
              "        return network;\n",
              "\n",
              "    }\n",
              "\n",
              "    drawGraph();\n",
              "\n",
              "</script>\n",
              "</body>\n",
              "</html>"
            ],
            "text/plain": [
              "<IPython.core.display.HTML object>"
            ]
          },
          "metadata": {}
        }
      ]
    },
    {
      "cell_type": "code",
      "source": [
        "print(f\"number of nodes: {g.number_of_nodes()}\")\n",
        "print(f\"number of edges: {g.number_of_edges()}\")"
      ],
      "metadata": {
        "colab": {
          "base_uri": "https://localhost:8080/"
        },
        "id": "2T8yFb0DEeam",
        "outputId": "a103dc78-8626-443d-aa04-359632d6c85b"
      },
      "execution_count": 17,
      "outputs": [
        {
          "output_type": "stream",
          "name": "stdout",
          "text": [
            "number of nodes: 4\n",
            "number of edges: 3\n"
          ]
        }
      ]
    },
    {
      "cell_type": "code",
      "source": [
        "for _, row in df_company.head(5).iterrows():\n",
        "  print(row['company'] + \"-\" + str(row['count']))"
      ],
      "metadata": {
        "colab": {
          "base_uri": "https://localhost:8080/"
        },
        "id": "3zx8_dMOEm4j",
        "outputId": "a271e916-cafd-45ff-b8e0-79541e7703bb"
      },
      "execution_count": 18,
      "outputs": [
        {
          "output_type": "stream",
          "name": "stdout",
          "text": [
            "State Farm ®-134\n",
            "State Farm Insurance-20\n",
            "State Farm-19\n",
            "Amazon-5\n",
            "Toyota Connected North America-5\n"
          ]
        }
      ]
    },
    {
      "cell_type": "code",
      "source": [
        "print(df_company.shape)\n",
        "df_company_reduced = df_company.loc[df_company['count']>=5]\n",
        "print(df_company_reduced.shape)"
      ],
      "metadata": {
        "colab": {
          "base_uri": "https://localhost:8080/"
        },
        "id": "bAAcro99Eret",
        "outputId": "a3cb83a4-b1c6-40b0-d69c-c4ed44298175"
      },
      "execution_count": 19,
      "outputs": [
        {
          "output_type": "stream",
          "name": "stdout",
          "text": [
            "(372, 2)\n",
            "(5, 2)\n"
          ]
        }
      ]
    },
    {
      "cell_type": "code",
      "source": [
        "print(df_position.shape)\n",
        "df_position_reduced = df_position.loc[df_position['count']>=5]\n",
        "print(df_position_reduced.shape)"
      ],
      "metadata": {
        "colab": {
          "base_uri": "https://localhost:8080/"
        },
        "id": "CJB-3xzSEwWI",
        "outputId": "063ffcee-2af7-4cdd-b485-341e5e595513"
      },
      "execution_count": 20,
      "outputs": [
        {
          "output_type": "stream",
          "name": "stdout",
          "text": [
            "(473, 2)\n",
            "(8, 2)\n"
          ]
        }
      ]
    },
    {
      "cell_type": "code",
      "source": [
        "# initialize graph\n",
        "g = nx.Graph()\n",
        "g.add_node('root') # intialize yourself as central\n",
        "\n",
        "# use iterrows tp iterate through the data frame\n",
        "for _, row in df_company_reduced.iterrows():\n",
        "\n",
        "  # store company name and count\n",
        "  company = row['company']\n",
        "  count = row['count']\n",
        "\n",
        "  title = f\"<b>{company}</b> – {count}\"\n",
        "  positions = set([x for x in df[company == df['company']]['position']])\n",
        "  positions = ''.join('<li>{}</li>'.format(x) for x in positions)\n",
        "\n",
        "  position_list = f\"<ul>{positions}</ul>\"\n",
        "  hover_info = title + position_list\n",
        "\n",
        "  g.add_node(company, size=count*2, title=hover_info, color='#3449eb')\n",
        "  g.add_edge('root', company, color='grey')\n",
        "\n",
        "# generate the graph\n",
        "nt = net.Network(height='700px', width='700px', bgcolor=\"black\", font_color='white')\n",
        "nt.from_nx(g)\n",
        "nt.hrepulsion()\n",
        "# more customization https://tinyurl.com/yf5lvvdm\n",
        "nt.show('company_graph.html')\n",
        "display(HTML('company_graph.html'))"
      ],
      "metadata": {
        "colab": {
          "base_uri": "https://localhost:8080/",
          "height": 738
        },
        "id": "33tpzZw4EywQ",
        "outputId": "6c1ef2f0-a977-41e8-c4fb-c17929dd10e8"
      },
      "execution_count": 21,
      "outputs": [
        {
          "output_type": "display_data",
          "data": {
            "text/html": [
              "<html>\n",
              "<head>\n",
              "<link rel=\"stylesheet\" href=\"https://cdnjs.cloudflare.com/ajax/libs/vis/4.16.1/vis.css\" type=\"text/css\" />\n",
              "<script type=\"text/javascript\" src=\"https://cdnjs.cloudflare.com/ajax/libs/vis/4.16.1/vis-network.min.js\"> </script>\n",
              "<center>\n",
              "<h1></h1>\n",
              "</center>\n",
              "\n",
              "<!-- <link rel=\"stylesheet\" href=\"../node_modules/vis/dist/vis.min.css\" type=\"text/css\" />\n",
              "<script type=\"text/javascript\" src=\"../node_modules/vis/dist/vis.js\"> </script>-->\n",
              "\n",
              "<style type=\"text/css\">\n",
              "\n",
              "        #mynetwork {\n",
              "            width: 700px;\n",
              "            height: 700px;\n",
              "            background-color: black;\n",
              "            border: 1px solid lightgray;\n",
              "            position: relative;\n",
              "            float: left;\n",
              "        }\n",
              "\n",
              "        \n",
              "\n",
              "        \n",
              "\n",
              "        \n",
              "</style>\n",
              "\n",
              "</head>\n",
              "\n",
              "<body>\n",
              "<div id = \"mynetwork\"></div>\n",
              "\n",
              "\n",
              "<script type=\"text/javascript\">\n",
              "\n",
              "    // initialize global variables.\n",
              "    var edges;\n",
              "    var nodes;\n",
              "    var network; \n",
              "    var container;\n",
              "    var options, data;\n",
              "\n",
              "    \n",
              "    // This method is responsible for drawing the graph, returns the drawn network\n",
              "    function drawGraph() {\n",
              "        var container = document.getElementById('mynetwork');\n",
              "        \n",
              "        \n",
              "\n",
              "        // parsing and collecting nodes and edges from the python\n",
              "        nodes = new vis.DataSet([{\"font\": {\"color\": \"white\"}, \"id\": \"root\", \"label\": \"root\", \"shape\": \"dot\", \"size\": 10}, {\"color\": \"#3449eb\", \"font\": {\"color\": \"white\"}, \"id\": \"State Farm \\u00ae\", \"label\": \"State Farm \\u00ae\", \"shape\": \"dot\", \"size\": 268, \"title\": \"\\u003cb\\u003eState Farm \\u00ae\\u003c/b\\u003e \\u2013 134\\u003cul\\u003e\\u003cli\\u003eTechology Manager\\u003c/li\\u003e\\u003cli\\u003eSenior Research Analyst\\u003c/li\\u003e\\u003cli\\u003eAWS Architect\\u003c/li\\u003e\\u003cli\\u003eData Scientist\\u003c/li\\u003e\\u003cli\\u003eTechnology Analyst\\u003c/li\\u003e\\u003cli\\u003eSenior Information Security Specialist - Information Security Consulting (ISC)\\u003c/li\\u003e\\u003cli\\u003eRating Mod Senior Software Developer\\u003c/li\\u003e\\u003cli\\u003eTechnology Product Manager- Enterprise Technology/AMCC \\u003c/li\\u003e\\u003cli\\u003eMachine Learning Engineer\\u003c/li\\u003e\\u003cli\\u003eSenior Technology Engineer/Data Scientist\\u003c/li\\u003e\\u003cli\\u003eSenior ETL Datastage Developer\\u003c/li\\u003e\\u003cli\\u003eScrum Master | Internal and External Communications | Blogger | Project Manager | Business Owner\\u003c/li\\u003e\\u003cli\\u003eSenior Machine Learning Engineer\\u003c/li\\u003e\\u003cli\\u003eSenior Research Statistician (Independent Model Validation)\\u003c/li\\u003e\\u003cli\\u003eData Architecture - Enterprise Technology Intern\\u003c/li\\u003e\\u003cli\\u003eData/AI-ML Architect\\u003c/li\\u003e\\u003cli\\u003eSenior Technology Engineer\\u003c/li\\u003e\\u003cli\\u003eArchitecture Manager \\u003c/li\\u003e\\u003cli\\u003eIT Director\\u003c/li\\u003e\\u003cli\\u003eTechnology Engineer\\u003c/li\\u003e\\u003cli\\u003eSenior Technology Engineer - Data \\u0026 AWS \\u003c/li\\u003e\\u003cli\\u003eSr. Technology Analyst - IT Strategy\\u003c/li\\u003e\\u003cli\\u003eSenior Data Scientist\\u003c/li\\u003e\\u003cli\\u003eAgency Recruiter\\u003c/li\\u003e\\u003cli\\u003eLead Software Developer\\u003c/li\\u003e\\u003cli\\u003eClaim Team Manager- Express\\u003c/li\\u003e\\u003cli\\u003eUnderwriter\\u003c/li\\u003e\\u003cli\\u003eSenior Data Scientist/Machine Learning Engineer\\u003c/li\\u003e\\u003cli\\u003eUX Generalist\\u003c/li\\u003e\\u003cli\\u003eSenior Data Analyst\\u003c/li\\u003e\\u003cli\\u003eSenior Software Developer - Architecture\\u003c/li\\u003e\\u003cli\\u003eCareer Consultant / Talent Scout / Coach\\u003c/li\\u003e\\u003cli\\u003eArchitecture Manager - Tech\\u003c/li\\u003e\\u003cli\\u003eTeam Manager - Fire Proximity\\u003c/li\\u003e\\u003cli\\u003eIT Leader\\u003c/li\\u003e\\u003cli\\u003eAnalyst-Digital Analytics \\u003c/li\\u003e\\u003cli\\u003eTechnology Director - Data Management and Governance\\u003c/li\\u003e\\u003cli\\u003eSenior Data Scientist and Team Lead\\u003c/li\\u003e\\u003cli\\u003eAnalytics Analyst | People Analytics | HR Analytics\\u003c/li\\u003e\\u003cli\\u003eSystem Security Engineer\\u003c/li\\u003e\\u003cli\\u003eTechnology Leader\\u003c/li\\u003e\\u003cli\\u003eTechnical Talent Acquisition Specialist\\u003c/li\\u003e\\u003cli\\u003eTechnology Manager Labs\\u003c/li\\u003e\\u003cli\\u003eArchitecture Manager-Technology Infrastructure as a Service\\u003c/li\\u003e\\u003cli\\u003eIT Analyst\\u003c/li\\u003e\\u003cli\\u003eSr. Full Stack Developer\\u003c/li\\u003e\\u003cli\\u003eDigital Analyst\\u003c/li\\u003e\\u003cli\\u003eSenior Machine Learning Engineer at State Farm \\u00ae\\u003c/li\\u003e\\u003cli\\u003eData Science Manager\\u003c/li\\u003e\\u003cli\\u003eDigital Experience - Technology Analyst\\u003c/li\\u003e\\u003cli\\u003eSr Manager - Data Science \\u003c/li\\u003e\\u003cli\\u003eInsurance Agent\\u003c/li\\u003e\\u003cli\\u003ePrincipal Machine Learning Platform Engineer\\u003c/li\\u003e\\u003cli\\u003eSenior Talent Acquisition Recruiter\\u003c/li\\u003e\\u003cli\\u003eModeling \\u0026 Technology Manager\\u003c/li\\u003e\\u003cli\\u003eTechnology Manager\\u003c/li\\u003e\\u003cli\\u003eML/AI Development for Enterprise Data \\u0026 Analytics\\u003c/li\\u003e\\u003cli\\u003eLead Java/J2EE Developer\\u003c/li\\u003e\\u003cli\\u003eAgent/Owner\\u003c/li\\u003e\\u003cli\\u003eTechnology Director\\u003c/li\\u003e\\u003cli\\u003eInformation Security Product Manager\\u003c/li\\u003e\\u003cli\\u003eEnterprise Technology Intern\\u003c/li\\u003e\\u003cli\\u003eSolution Architect Big Data/ Public Cloud\\u003c/li\\u003e\\u003cli\\u003eSenior Data Engineer\\u003c/li\\u003e\\u003cli\\u003eSoftware Developer\\u003c/li\\u003e\\u003cli\\u003eTechnology Director of Public Cloud \\u003c/li\\u003e\\u003cli\\u003eClaim Team Manager\\u003c/li\\u003e\\u003cli\\u003eiOS Developer III\\u003c/li\\u003e\\u003cli\\u003eManager Digital Analytics\\u003c/li\\u003e\\u003cli\\u003eDirector IT Risk \\u0026 Compliance \\u003c/li\\u003e\\u003cli\\u003eTech Engineer and Data Geek\\u003c/li\\u003e\\u003cli\\u003eInformation Security Manager - Information Security Consulting (ISC)\\u003c/li\\u003e\\u003cli\\u003eSenior Software Developer/Public Cloud Learning Advocate\\u003c/li\\u003e\\u003cli\\u003eTechnical Analyst\\u003c/li\\u003e\\u003cli\\u003eNetwork VOIP Engineer\\u003c/li\\u003e\\u003cli\\u003eLinux/DevOps Engineer\\u003c/li\\u003e\\u003cli\\u003eSoftware Developer - IV\\u003c/li\\u003e\\u003cli\\u003eInformation Technology Manager\\u003c/li\\u003e\\u003cli\\u003eSoftware Engineer\\u003c/li\\u003e\\u003cli\\u003eTechnology Director \\u003c/li\\u003e\\u003cli\\u003eInformation Technology Security Specialist\\u003c/li\\u003e\\u003cli\\u003eData Analyst\\u003c/li\\u003e\\u003cli\\u003eInformation Technology Product Manager\\u003c/li\\u003e\\u003cli\\u003eArchitecture Manager\\u003c/li\\u003e\\u003cli\\u003eFull Stack Data Scientist\\u003c/li\\u003e\\u003cli\\u003eSoftware Development- Technical Architecture\\u003c/li\\u003e\\u003cli\\u003eThreat Intelligence\\u003c/li\\u003e\\u003cli\\u003eProduct Manager\\u003c/li\\u003e\\u003cli\\u003eTechnology Leader \\u003c/li\\u003e\\u003cli\\u003eIT GRC Analyst\\u003c/li\\u003e\\u003cli\\u003eSenior Research Systems Analyst\\u003c/li\\u003e\\u003cli\\u003eSr.ML DevOps engineer\\u003c/li\\u003e\\u003cli\\u003eTech Support Analyst\\u003c/li\\u003e\\u003c/ul\\u003e\"}, {\"color\": \"#3449eb\", \"font\": {\"color\": \"white\"}, \"id\": \"State Farm Insurance\", \"label\": \"State Farm Insurance\", \"shape\": \"dot\", \"size\": 40, \"title\": \"\\u003cb\\u003eState Farm Insurance\\u003c/b\\u003e \\u2013 20\\u003cul\\u003e\\u003cli\\u003eAgency Sales Leader\\u003c/li\\u003e\\u003cli\\u003eData Architecture Lead\\u003c/li\\u003e\\u003cli\\u003eSenior Data Analysis\\u003c/li\\u003e\\u003cli\\u003eSolution Designer\\u003c/li\\u003e\\u003cli\\u003eArchitecture\\u003c/li\\u003e\\u003cli\\u003eSystems Analyst\\u003c/li\\u003e\\u003cli\\u003eData Architect/ IT Architect\\u003c/li\\u003e\\u003cli\\u003eInsurance Agent\\u003c/li\\u003e\\u003cli\\u003eAGENT\\u003c/li\\u003e\\u003cli\\u003eOwner\\u003c/li\\u003e\\u003cli\\u003eData Specialist\\u003c/li\\u003e\\u003cli\\u003eAgency Field Recruiter\\u003c/li\\u003e\\u003cli\\u003eService Manager\\u003c/li\\u003e\\u003cli\\u003eData Analyst\\u003c/li\\u003e\\u003cli\\u003eIT Analyst - Governance, Risk, and Compliance\\u003c/li\\u003e\\u003cli\\u003eAgent\\u003c/li\\u003e\\u003cli\\u003eAgent/Owner/CEO\\u003c/li\\u003e\\u003cli\\u003eTechnology Analyst\\u003c/li\\u003e\\u003c/ul\\u003e\"}, {\"color\": \"#3449eb\", \"font\": {\"color\": \"white\"}, \"id\": \"State Farm\", \"label\": \"State Farm\", \"shape\": \"dot\", \"size\": 38, \"title\": \"\\u003cb\\u003eState Farm\\u003c/b\\u003e \\u2013 19\\u003cul\\u003e\\u003cli\\u003eDirector Of Architecture\\u003c/li\\u003e\\u003cli\\u003eResearch Data specialist\\u003c/li\\u003e\\u003cli\\u003eIT Analyst-Architect \\u003c/li\\u003e\\u003cli\\u003eIT Architect\\u003c/li\\u003e\\u003cli\\u003eData Analyst\\u003c/li\\u003e\\u003cli\\u003eData Designer\\u003c/li\\u003e\\u003cli\\u003eTechnical Analyst\\u003c/li\\u003e\\u003cli\\u003eIT Leader\\u003c/li\\u003e\\u003cli\\u003eIT Manager\\u003c/li\\u003e\\u003cli\\u003eInformation Security Analyst\\u003c/li\\u003e\\u003cli\\u003eBusiness Analyst\\u003c/li\\u003e\\u003cli\\u003eSr Android Developer\\u003c/li\\u003e\\u003cli\\u003eQlikView Administrator/Developer\\u003c/li\\u003e\\u003cli\\u003eAgency Recruiter\\u003c/li\\u003e\\u003cli\\u003eSystems Analyst\\u003c/li\\u003e\\u003cli\\u003eEnterprise Technology Manager\\u003c/li\\u003e\\u003c/ul\\u003e\"}, {\"color\": \"#3449eb\", \"font\": {\"color\": \"white\"}, \"id\": \"Amazon\", \"label\": \"Amazon\", \"shape\": \"dot\", \"size\": 10, \"title\": \"\\u003cb\\u003eAmazon\\u003c/b\\u003e \\u2013 5\\u003cul\\u003e\\u003cli\\u003eResearch Scientist\\u003c/li\\u003e\\u003cli\\u003eSoftware Development Engineer II\\u003c/li\\u003e\\u003cli\\u003eSoftware Development Engineer\\u003c/li\\u003e\\u003cli\\u003eHead of Data Science, Talent Products\\u003c/li\\u003e\\u003cli\\u003eArea Manager\\u003c/li\\u003e\\u003c/ul\\u003e\"}, {\"color\": \"#3449eb\", \"font\": {\"color\": \"white\"}, \"id\": \"Toyota Connected North America\", \"label\": \"Toyota Connected North America\", \"shape\": \"dot\", \"size\": 10, \"title\": \"\\u003cb\\u003eToyota Connected North America\\u003c/b\\u003e \\u2013 5\\u003cul\\u003e\\u003cli\\u003ePrincipal Data Scientist\\u003c/li\\u003e\\u003cli\\u003eSenior Data Scientist\\u003c/li\\u003e\\u003cli\\u003ePrincipal Machine Learning Engineer\\u003c/li\\u003e\\u003cli\\u003eSenior Managing Engineer \\u003c/li\\u003e\\u003cli\\u003eData Scientist\\u003c/li\\u003e\\u003c/ul\\u003e\"}]);\n",
              "        edges = new vis.DataSet([{\"color\": \"grey\", \"from\": \"root\", \"to\": \"State Farm \\u00ae\", \"weight\": 1}, {\"color\": \"grey\", \"from\": \"root\", \"to\": \"State Farm Insurance\", \"weight\": 1}, {\"color\": \"grey\", \"from\": \"root\", \"to\": \"State Farm\", \"weight\": 1}, {\"color\": \"grey\", \"from\": \"root\", \"to\": \"Amazon\", \"weight\": 1}, {\"color\": \"grey\", \"from\": \"root\", \"to\": \"Toyota Connected North America\", \"weight\": 1}]);\n",
              "\n",
              "        // adding nodes and edges to the graph\n",
              "        data = {nodes: nodes, edges: edges};\n",
              "\n",
              "        var options = {\n",
              "    \"configure\": {\n",
              "        \"enabled\": false\n",
              "    },\n",
              "    \"edges\": {\n",
              "        \"color\": {\n",
              "            \"inherit\": true\n",
              "        },\n",
              "        \"smooth\": {\n",
              "            \"enabled\": false,\n",
              "            \"type\": \"continuous\"\n",
              "        }\n",
              "    },\n",
              "    \"interaction\": {\n",
              "        \"dragNodes\": true,\n",
              "        \"hideEdgesOnDrag\": false,\n",
              "        \"hideNodesOnDrag\": false\n",
              "    },\n",
              "    \"physics\": {\n",
              "        \"enabled\": true,\n",
              "        \"hierarchicalRepulsion\": {\n",
              "            \"centralGravity\": 0.0,\n",
              "            \"damping\": 0.09,\n",
              "            \"nodeDistance\": 120,\n",
              "            \"springConstant\": 0.01,\n",
              "            \"springLength\": 100\n",
              "        },\n",
              "        \"solver\": \"hierarchicalRepulsion\",\n",
              "        \"stabilization\": {\n",
              "            \"enabled\": true,\n",
              "            \"fit\": true,\n",
              "            \"iterations\": 1000,\n",
              "            \"onlyDynamicEdges\": false,\n",
              "            \"updateInterval\": 50\n",
              "        }\n",
              "    }\n",
              "};\n",
              "        \n",
              "        \n",
              "\n",
              "        \n",
              "\n",
              "        network = new vis.Network(container, data, options);\n",
              "\t \n",
              "        \n",
              "\n",
              "\n",
              "        \n",
              "\n",
              "        return network;\n",
              "\n",
              "    }\n",
              "\n",
              "    drawGraph();\n",
              "\n",
              "</script>\n",
              "</body>\n",
              "</html>"
            ],
            "text/plain": [
              "<IPython.core.display.HTML object>"
            ]
          },
          "metadata": {}
        }
      ]
    },
    {
      "cell_type": "code",
      "source": [
        "# initialize graph\n",
        "g = nx.Graph()\n",
        "g.add_node('root') # intialize yourself as central\n",
        "\n",
        "# use iterrows tp iterate through the data frame\n",
        "for _, row in df_position_reduced.iterrows():\n",
        "\n",
        "  count = f\"{row['count']}\"\n",
        "  position= row['position']\n",
        "  \n",
        "  g.add_node(position, size=count, color='#3449eb', title=count)\n",
        "  g.add_edge('root', position, color='grey')\n",
        "\n",
        "# generate the graph\n",
        "nt = net.Network(height='700px', width='700px', bgcolor=\"black\", font_color='white')\n",
        "nt.from_nx(g)\n",
        "nt.hrepulsion()\n",
        "# more customization https://tinyurl.com/yf5lvvdm\n",
        "nt.show('position_graph.html')\n",
        "display(HTML('position_graph.html'))"
      ],
      "metadata": {
        "colab": {
          "base_uri": "https://localhost:8080/",
          "height": 738
        },
        "id": "knch9q-CE2Cq",
        "outputId": "8b10c893-e1d5-40ef-c3e1-8dd88082d6a5"
      },
      "execution_count": 22,
      "outputs": [
        {
          "output_type": "display_data",
          "data": {
            "text/html": [
              "<html>\n",
              "<head>\n",
              "<link rel=\"stylesheet\" href=\"https://cdnjs.cloudflare.com/ajax/libs/vis/4.16.1/vis.css\" type=\"text/css\" />\n",
              "<script type=\"text/javascript\" src=\"https://cdnjs.cloudflare.com/ajax/libs/vis/4.16.1/vis-network.min.js\"> </script>\n",
              "<center>\n",
              "<h1></h1>\n",
              "</center>\n",
              "\n",
              "<!-- <link rel=\"stylesheet\" href=\"../node_modules/vis/dist/vis.min.css\" type=\"text/css\" />\n",
              "<script type=\"text/javascript\" src=\"../node_modules/vis/dist/vis.js\"> </script>-->\n",
              "\n",
              "<style type=\"text/css\">\n",
              "\n",
              "        #mynetwork {\n",
              "            width: 700px;\n",
              "            height: 700px;\n",
              "            background-color: black;\n",
              "            border: 1px solid lightgray;\n",
              "            position: relative;\n",
              "            float: left;\n",
              "        }\n",
              "\n",
              "        \n",
              "\n",
              "        \n",
              "\n",
              "        \n",
              "</style>\n",
              "\n",
              "</head>\n",
              "\n",
              "<body>\n",
              "<div id = \"mynetwork\"></div>\n",
              "\n",
              "\n",
              "<script type=\"text/javascript\">\n",
              "\n",
              "    // initialize global variables.\n",
              "    var edges;\n",
              "    var nodes;\n",
              "    var network; \n",
              "    var container;\n",
              "    var options, data;\n",
              "\n",
              "    \n",
              "    // This method is responsible for drawing the graph, returns the drawn network\n",
              "    function drawGraph() {\n",
              "        var container = document.getElementById('mynetwork');\n",
              "        \n",
              "        \n",
              "\n",
              "        // parsing and collecting nodes and edges from the python\n",
              "        nodes = new vis.DataSet([{\"font\": {\"color\": \"white\"}, \"id\": \"root\", \"label\": \"root\", \"shape\": \"dot\", \"size\": 10}, {\"color\": \"#3449eb\", \"font\": {\"color\": \"white\"}, \"id\": \"Data Analyst\", \"label\": \"Data Analyst\", \"shape\": \"dot\", \"size\": 15, \"title\": \"15\"}, {\"color\": \"#3449eb\", \"font\": {\"color\": \"white\"}, \"id\": \"Data Scientist\", \"label\": \"Data Scientist\", \"shape\": \"dot\", \"size\": 11, \"title\": \"11\"}, {\"color\": \"#3449eb\", \"font\": {\"color\": \"white\"}, \"id\": \"Technology Manager\", \"label\": \"Technology Manager\", \"shape\": \"dot\", \"size\": 8, \"title\": \"8\"}, {\"color\": \"#3449eb\", \"font\": {\"color\": \"white\"}, \"id\": \"Software Developer\", \"label\": \"Software Developer\", \"shape\": \"dot\", \"size\": 7, \"title\": \"7\"}, {\"color\": \"#3449eb\", \"font\": {\"color\": \"white\"}, \"id\": \"President\", \"label\": \"President\", \"shape\": \"dot\", \"size\": 6, \"title\": \"6\"}, {\"color\": \"#3449eb\", \"font\": {\"color\": \"white\"}, \"id\": \"Senior Data Scientist\", \"label\": \"Senior Data Scientist\", \"shape\": \"dot\", \"size\": 6, \"title\": \"6\"}, {\"color\": \"#3449eb\", \"font\": {\"color\": \"white\"}, \"id\": \"Machine Learning Engineer\", \"label\": \"Machine Learning Engineer\", \"shape\": \"dot\", \"size\": 5, \"title\": \"5\"}, {\"color\": \"#3449eb\", \"font\": {\"color\": \"white\"}, \"id\": \"Software Engineer\", \"label\": \"Software Engineer\", \"shape\": \"dot\", \"size\": 5, \"title\": \"5\"}]);\n",
              "        edges = new vis.DataSet([{\"color\": \"grey\", \"from\": \"root\", \"to\": \"Data Analyst\", \"weight\": 1}, {\"color\": \"grey\", \"from\": \"root\", \"to\": \"Data Scientist\", \"weight\": 1}, {\"color\": \"grey\", \"from\": \"root\", \"to\": \"Technology Manager\", \"weight\": 1}, {\"color\": \"grey\", \"from\": \"root\", \"to\": \"Software Developer\", \"weight\": 1}, {\"color\": \"grey\", \"from\": \"root\", \"to\": \"President\", \"weight\": 1}, {\"color\": \"grey\", \"from\": \"root\", \"to\": \"Senior Data Scientist\", \"weight\": 1}, {\"color\": \"grey\", \"from\": \"root\", \"to\": \"Machine Learning Engineer\", \"weight\": 1}, {\"color\": \"grey\", \"from\": \"root\", \"to\": \"Software Engineer\", \"weight\": 1}]);\n",
              "\n",
              "        // adding nodes and edges to the graph\n",
              "        data = {nodes: nodes, edges: edges};\n",
              "\n",
              "        var options = {\n",
              "    \"configure\": {\n",
              "        \"enabled\": false\n",
              "    },\n",
              "    \"edges\": {\n",
              "        \"color\": {\n",
              "            \"inherit\": true\n",
              "        },\n",
              "        \"smooth\": {\n",
              "            \"enabled\": false,\n",
              "            \"type\": \"continuous\"\n",
              "        }\n",
              "    },\n",
              "    \"interaction\": {\n",
              "        \"dragNodes\": true,\n",
              "        \"hideEdgesOnDrag\": false,\n",
              "        \"hideNodesOnDrag\": false\n",
              "    },\n",
              "    \"physics\": {\n",
              "        \"enabled\": true,\n",
              "        \"hierarchicalRepulsion\": {\n",
              "            \"centralGravity\": 0.0,\n",
              "            \"damping\": 0.09,\n",
              "            \"nodeDistance\": 120,\n",
              "            \"springConstant\": 0.01,\n",
              "            \"springLength\": 100\n",
              "        },\n",
              "        \"solver\": \"hierarchicalRepulsion\",\n",
              "        \"stabilization\": {\n",
              "            \"enabled\": true,\n",
              "            \"fit\": true,\n",
              "            \"iterations\": 1000,\n",
              "            \"onlyDynamicEdges\": false,\n",
              "            \"updateInterval\": 50\n",
              "        }\n",
              "    }\n",
              "};\n",
              "        \n",
              "        \n",
              "\n",
              "        \n",
              "\n",
              "        network = new vis.Network(container, data, options);\n",
              "\t \n",
              "        \n",
              "\n",
              "\n",
              "        \n",
              "\n",
              "        return network;\n",
              "\n",
              "    }\n",
              "\n",
              "    drawGraph();\n",
              "\n",
              "</script>\n",
              "</body>\n",
              "</html>"
            ],
            "text/plain": [
              "<IPython.core.display.HTML object>"
            ]
          },
          "metadata": {}
        }
      ]
    },
    {
      "cell_type": "code",
      "source": [
        ""
      ],
      "metadata": {
        "id": "0EPcMKjyFBnJ"
      },
      "execution_count": null,
      "outputs": []
    }
  ]
}