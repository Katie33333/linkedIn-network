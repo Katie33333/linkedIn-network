{
  "nbformat": 4,
  "nbformat_minor": 0,
  "metadata": {
    "colab": {
      "name": "linkedin_network.ipynb",
      "provenance": [],
      "collapsed_sections": [],
      "mount_file_id": "1OPbINJ9CsWDOVaJ-w0p2dRx9zx3mAll8",
      "authorship_tag": "ABX9TyPiN1sH7Q27ZxUT07IDfxmk",
      "include_colab_link": true
    },
    "kernelspec": {
      "name": "python3",
      "display_name": "Python 3"
    },
    "language_info": {
      "name": "python"
    }
  },
  "cells": [
    {
      "cell_type": "markdown",
      "metadata": {
        "id": "view-in-github",
        "colab_type": "text"
      },
      "source": [
        "<a href=\"https://colab.research.google.com/github/Katie33333/linkedIn-network/blob/main/linkedin_network.ipynb\" target=\"_parent\"><img src=\"https://colab.research.google.com/assets/colab-badge.svg\" alt=\"Open In Colab\"/></a>"
      ]
    },
    {
      "cell_type": "code",
      "execution_count": 1,
      "metadata": {
        "colab": {
          "base_uri": "https://localhost:8080/"
        },
        "id": "9-M08bfc1NWC",
        "outputId": "c09eb0e7-aecf-49a3-e16f-37d561b61ed2"
      },
      "outputs": [
        {
          "output_type": "stream",
          "name": "stdout",
          "text": [
            "\u001b[?25l\r\u001b[K     |██▍                             | 10 kB 13.6 MB/s eta 0:00:01\r\u001b[K     |████▉                           | 20 kB 17.0 MB/s eta 0:00:01\r\u001b[K     |███████▎                        | 30 kB 18.4 MB/s eta 0:00:01\r\u001b[K     |█████████▊                      | 40 kB 20.3 MB/s eta 0:00:01\r\u001b[K     |████████████                    | 51 kB 21.1 MB/s eta 0:00:01\r\u001b[K     |██████████████▌                 | 61 kB 21.6 MB/s eta 0:00:01\r\u001b[K     |█████████████████               | 71 kB 18.6 MB/s eta 0:00:01\r\u001b[K     |███████████████████▍            | 81 kB 19.9 MB/s eta 0:00:01\r\u001b[K     |█████████████████████▉          | 92 kB 21.4 MB/s eta 0:00:01\r\u001b[K     |████████████████████████▏       | 102 kB 22.7 MB/s eta 0:00:01\r\u001b[K     |██████████████████████████▋     | 112 kB 22.7 MB/s eta 0:00:01\r\u001b[K     |█████████████████████████████   | 122 kB 22.7 MB/s eta 0:00:01\r\u001b[K     |███████████████████████████████▌| 133 kB 22.7 MB/s eta 0:00:01\r\u001b[K     |████████████████████████████████| 135 kB 22.7 MB/s \n",
            "\u001b[?25h"
          ]
        }
      ],
      "source": [
        "!pip install pyjanitor pyvis --quiet"
      ]
    },
    {
      "cell_type": "code",
      "source": [
        "import pandas as pd\n",
        "import janitor\n",
        "import datetime\n",
        "\n",
        "from IPython.core.display import display, HTML\n",
        "from pyvis import network as net\n",
        "import networkx as nx"
      ],
      "metadata": {
        "id": "Dj0gdcjo9OLU"
      },
      "execution_count": 3,
      "outputs": []
    },
    {
      "cell_type": "code",
      "source": [
        "df_ori = pd.read_csv(\"/content/drive/MyDrive/linkedin_network.csv\", skiprows=3)"
      ],
      "metadata": {
        "id": "qSi-qYUI9SP9"
      },
      "execution_count": 7,
      "outputs": []
    },
    {
      "cell_type": "code",
      "source": [
        "df_ori.info()"
      ],
      "metadata": {
        "colab": {
          "base_uri": "https://localhost:8080/"
        },
        "id": "mj0SzdTM-e0i",
        "outputId": "31d05818-fbc9-4b73-ea86-e71dc0a57ec1"
      },
      "execution_count": 8,
      "outputs": [
        {
          "output_type": "stream",
          "name": "stdout",
          "text": [
            "<class 'pandas.core.frame.DataFrame'>\n",
            "RangeIndex: 626 entries, 0 to 625\n",
            "Data columns (total 6 columns):\n",
            " #   Column         Non-Null Count  Dtype \n",
            "---  ------         --------------  ----- \n",
            " 0   First Name     612 non-null    object\n",
            " 1   Last Name      612 non-null    object\n",
            " 2   Email Address  19 non-null     object\n",
            " 3   Company        604 non-null    object\n",
            " 4   Position       604 non-null    object\n",
            " 5   Connected On   626 non-null    object\n",
            "dtypes: object(6)\n",
            "memory usage: 29.5+ KB\n"
          ]
        }
      ]
    },
    {
      "cell_type": "code",
      "source": [
        ""
      ],
      "metadata": {
        "id": "SpswJ3LL--fa"
      },
      "execution_count": null,
      "outputs": []
    }
  ]
}